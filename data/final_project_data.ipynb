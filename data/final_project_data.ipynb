{
 "cells": [
  {
   "cell_type": "markdown",
   "metadata": {},
   "source": [
    "# Data Divas Progress Report"
   ]
  },
  {
   "cell_type": "code",
   "execution_count": 1,
   "metadata": {},
   "outputs": [],
   "source": [
    "import pandas as pd\n",
    "from matplotlib import pyplot as plt\n",
    "import numpy as np\n",
    "from tabulate import tabulate"
   ]
  },
  {
   "cell_type": "markdown",
   "metadata": {},
   "source": [
    "## Base Data Cleaning"
   ]
  },
  {
   "cell_type": "code",
   "execution_count": 2,
   "metadata": {},
   "outputs": [
    {
     "name": "stdout",
     "output_type": "stream",
     "text": [
      "<class 'pandas.core.frame.DataFrame'>\n",
      "RangeIndex: 649 entries, 0 to 648\n",
      "Data columns (total 33 columns):\n",
      " #   Column      Non-Null Count  Dtype \n",
      "---  ------      --------------  ----- \n",
      " 0   school      649 non-null    object\n",
      " 1   sex         649 non-null    object\n",
      " 2   age         649 non-null    int64 \n",
      " 3   address     649 non-null    object\n",
      " 4   famsize     649 non-null    object\n",
      " 5   Pstatus     649 non-null    object\n",
      " 6   Medu        649 non-null    int64 \n",
      " 7   Fedu        649 non-null    int64 \n",
      " 8   Mjob        649 non-null    object\n",
      " 9   Fjob        649 non-null    object\n",
      " 10  reason      649 non-null    object\n",
      " 11  guardian    649 non-null    object\n",
      " 12  traveltime  649 non-null    int64 \n",
      " 13  studytime   649 non-null    int64 \n",
      " 14  failures    649 non-null    int64 \n",
      " 15  schoolsup   649 non-null    object\n",
      " 16  famsup      649 non-null    object\n",
      " 17  paid        649 non-null    object\n",
      " 18  activities  649 non-null    object\n",
      " 19  nursery     649 non-null    object\n",
      " 20  higher      649 non-null    object\n",
      " 21  internet    649 non-null    object\n",
      " 22  romantic    649 non-null    object\n",
      " 23  famrel      649 non-null    int64 \n",
      " 24  freetime    649 non-null    int64 \n",
      " 25  goout       649 non-null    int64 \n",
      " 26  Dalc        649 non-null    int64 \n",
      " 27  Walc        649 non-null    int64 \n",
      " 28  health      649 non-null    int64 \n",
      " 29  absences    649 non-null    int64 \n",
      " 30  G1          649 non-null    int64 \n",
      " 31  G2          649 non-null    int64 \n",
      " 32  G3          649 non-null    int64 \n",
      "dtypes: int64(16), object(17)\n",
      "memory usage: 167.4+ KB\n"
     ]
    }
   ],
   "source": [
    "mat_df = pd.read_csv('./student-mat.csv', sep=';')\n",
    "por_df = pd.read_csv('./student-por.csv', sep=';')\n",
    "\n",
    "por_df.info()"
   ]
  },
  {
   "cell_type": "code",
   "execution_count": 3,
   "metadata": {},
   "outputs": [],
   "source": [
    "mat_df.insert(1, 'class', 'mat')\n",
    "por_df.insert(1, 'class', 'por')\n",
    "df = pd.concat([mat_df, por_df], axis=0)"
   ]
  },
  {
   "cell_type": "code",
   "execution_count": 4,
   "metadata": {},
   "outputs": [
    {
     "name": "stdout",
     "output_type": "stream",
     "text": [
      "<class 'pandas.core.frame.DataFrame'>\n",
      "Int64Index: 1044 entries, 0 to 648\n",
      "Data columns (total 32 columns):\n",
      " #   Column      Non-Null Count  Dtype \n",
      "---  ------      --------------  ----- \n",
      " 0   school      1044 non-null   object\n",
      " 1   class       1044 non-null   object\n",
      " 2   sex         1044 non-null   object\n",
      " 3   age         1044 non-null   int64 \n",
      " 4   address     1044 non-null   object\n",
      " 5   famsize     1044 non-null   object\n",
      " 6   Pstatus     1044 non-null   object\n",
      " 7   Medu        1044 non-null   int64 \n",
      " 8   Fedu        1044 non-null   int64 \n",
      " 9   Mjob        1044 non-null   object\n",
      " 10  Fjob        1044 non-null   object\n",
      " 11  reason      1044 non-null   object\n",
      " 12  guardian    1044 non-null   object\n",
      " 13  traveltime  1044 non-null   int64 \n",
      " 14  studytime   1044 non-null   int64 \n",
      " 15  failures    1044 non-null   int64 \n",
      " 16  schoolsup   1044 non-null   object\n",
      " 17  famsup      1044 non-null   object\n",
      " 18  paid        1044 non-null   object\n",
      " 19  activities  1044 non-null   object\n",
      " 20  nursery     1044 non-null   object\n",
      " 21  higher      1044 non-null   object\n",
      " 22  internet    1044 non-null   object\n",
      " 23  romantic    1044 non-null   object\n",
      " 24  famrel      1044 non-null   int64 \n",
      " 25  freetime    1044 non-null   int64 \n",
      " 26  goout       1044 non-null   int64 \n",
      " 27  Dalc        1044 non-null   int64 \n",
      " 28  Walc        1044 non-null   int64 \n",
      " 29  health      1044 non-null   int64 \n",
      " 30  absences    1044 non-null   int64 \n",
      " 31  G3          1044 non-null   int64 \n",
      "dtypes: int64(14), object(18)\n",
      "memory usage: 269.2+ KB\n"
     ]
    }
   ],
   "source": [
    "df.drop(['G1', 'G2'], inplace=True, axis=1)\n",
    "df.info()"
   ]
  },
  {
   "cell_type": "markdown",
   "metadata": {},
   "source": [
    "## 2.1 Data Quality Report"
   ]
  },
  {
   "cell_type": "code",
   "execution_count": 5,
   "metadata": {},
   "outputs": [],
   "source": [
    "cat_features = ['school', 'class', 'sex', 'address', 'famsize', 'Pstatus', 'Medu', 'Fedu', 'Mjob', 'Fjob', 'reason', 'guardian', 'traveltime', 'studytime', 'failures', \n",
    "                'schoolsup' ,'famsup', 'paid', 'activities', 'nursery', 'higher', 'internet', 'romantic', 'famrel', 'freetime', 'goout', 'Dalc', 'Walc', 'health']\n",
    "cont_features = ['age', 'absences', 'G3']\n",
    "\n",
    "cat_df = df[cat_features]\n",
    "cont_df = df[cont_features]"
   ]
  },
  {
   "cell_type": "code",
   "execution_count": 6,
   "metadata": {},
   "outputs": [
    {
     "data": {
      "text/html": [
       "<div>\n",
       "<style scoped>\n",
       "    .dataframe tbody tr th:only-of-type {\n",
       "        vertical-align: middle;\n",
       "    }\n",
       "\n",
       "    .dataframe tbody tr th {\n",
       "        vertical-align: top;\n",
       "    }\n",
       "\n",
       "    .dataframe thead th {\n",
       "        text-align: right;\n",
       "    }\n",
       "</style>\n",
       "<table border=\"1\" class=\"dataframe\">\n",
       "  <thead>\n",
       "    <tr style=\"text-align: right;\">\n",
       "      <th></th>\n",
       "      <th>Feature</th>\n",
       "      <th>Count</th>\n",
       "      <th>Miss %</th>\n",
       "      <th>Card.</th>\n",
       "      <th>Mode</th>\n",
       "      <th>Mode Freq.</th>\n",
       "      <th>Mode %</th>\n",
       "      <th>2nd Mode</th>\n",
       "      <th>2nd Mode Freq.</th>\n",
       "      <th>2nd Mode %</th>\n",
       "    </tr>\n",
       "  </thead>\n",
       "  <tbody>\n",
       "    <tr>\n",
       "      <th>0</th>\n",
       "      <td>school</td>\n",
       "      <td>1044</td>\n",
       "      <td>0.0</td>\n",
       "      <td>2.0</td>\n",
       "      <td>GP</td>\n",
       "      <td>772.0</td>\n",
       "      <td>73.946360</td>\n",
       "      <td>MS</td>\n",
       "      <td>272.0</td>\n",
       "      <td>26.053640</td>\n",
       "    </tr>\n",
       "    <tr>\n",
       "      <th>1</th>\n",
       "      <td>class</td>\n",
       "      <td>1044</td>\n",
       "      <td>0.0</td>\n",
       "      <td>2.0</td>\n",
       "      <td>por</td>\n",
       "      <td>649.0</td>\n",
       "      <td>62.164751</td>\n",
       "      <td>mat</td>\n",
       "      <td>395.0</td>\n",
       "      <td>37.835249</td>\n",
       "    </tr>\n",
       "    <tr>\n",
       "      <th>2</th>\n",
       "      <td>sex</td>\n",
       "      <td>1044</td>\n",
       "      <td>0.0</td>\n",
       "      <td>2.0</td>\n",
       "      <td>F</td>\n",
       "      <td>591.0</td>\n",
       "      <td>56.609195</td>\n",
       "      <td>M</td>\n",
       "      <td>453.0</td>\n",
       "      <td>43.390805</td>\n",
       "    </tr>\n",
       "    <tr>\n",
       "      <th>3</th>\n",
       "      <td>address</td>\n",
       "      <td>1044</td>\n",
       "      <td>0.0</td>\n",
       "      <td>2.0</td>\n",
       "      <td>U</td>\n",
       "      <td>759.0</td>\n",
       "      <td>72.701149</td>\n",
       "      <td>R</td>\n",
       "      <td>285.0</td>\n",
       "      <td>27.298851</td>\n",
       "    </tr>\n",
       "    <tr>\n",
       "      <th>4</th>\n",
       "      <td>famsize</td>\n",
       "      <td>1044</td>\n",
       "      <td>0.0</td>\n",
       "      <td>2.0</td>\n",
       "      <td>GT3</td>\n",
       "      <td>738.0</td>\n",
       "      <td>70.689655</td>\n",
       "      <td>LE3</td>\n",
       "      <td>306.0</td>\n",
       "      <td>29.310345</td>\n",
       "    </tr>\n",
       "  </tbody>\n",
       "</table>\n",
       "</div>"
      ],
      "text/plain": [
       "   Feature  Count  Miss %  Card. Mode  Mode Freq.     Mode % 2nd Mode  \\\n",
       "0   school   1044     0.0    2.0   GP       772.0  73.946360       MS   \n",
       "1    class   1044     0.0    2.0  por       649.0  62.164751      mat   \n",
       "2      sex   1044     0.0    2.0    F       591.0  56.609195        M   \n",
       "3  address   1044     0.0    2.0    U       759.0  72.701149        R   \n",
       "4  famsize   1044     0.0    2.0  GT3       738.0  70.689655      LE3   \n",
       "\n",
       "   2nd Mode Freq.  2nd Mode %  \n",
       "0           272.0   26.053640  \n",
       "1           395.0   37.835249  \n",
       "2           453.0   43.390805  \n",
       "3           285.0   27.298851  \n",
       "4           306.0   29.310345  "
      ]
     },
     "execution_count": 6,
     "metadata": {},
     "output_type": "execute_result"
    }
   ],
   "source": [
    "# Cat. Feature Data Quality Report\n",
    "# Feature feature\n",
    "cat_dq_report = pd.DataFrame(cat_df.columns.values)\n",
    "cat_dq_report.columns = ['Feature']\n",
    "cat_dq_report = cat_dq_report.reindex(columns = cat_dq_report.columns.tolist() + \n",
    "                                      ['Count', 'Miss %', 'Card.', 'Mode', 'Mode Freq.', 'Mode %', '2nd Mode', '2nd Mode Freq.', '2nd Mode %'])\n",
    "\n",
    "# Count feature\n",
    "cat_dq_report['Count'] = cat_df.shape[0]\n",
    "\n",
    "for i, feature in enumerate(cat_dq_report['Feature']):\n",
    "    cat_dq_report.iloc[i:i+1, 2] = cat_df[feature].isna().sum() / cat_df.shape[0] # Miss %\n",
    "    \n",
    "    mode_info_df =  cat_df[feature].value_counts().reset_index()\n",
    "    \n",
    "    cat_dq_report.iloc[i:i+1, 3] = mode_info_df['index'].shape[0] # Card. feature\n",
    "    cat_dq_report.iloc[i:i+1, 4] = mode_info_df.at[0, 'index'] # Mode\n",
    "    cat_dq_report.iloc[i:i+1, 5] = mode_info_df.at[0, feature] # Mode Freq.\n",
    "    cat_dq_report.iloc[i:i+1, 7] = mode_info_df.at[1, 'index'] # 2nd Mode\n",
    "    cat_dq_report.iloc[i:i+1, 8] = mode_info_df.at[1, feature] # 2nd Mode Freq.\n",
    "\n",
    "# Deriving mode % for first and second mode\n",
    "cat_dq_report['Mode %'] = cat_dq_report['Mode Freq.'] / cat_dq_report['Count'] * 100\n",
    "cat_dq_report['2nd Mode %'] = cat_dq_report['2nd Mode Freq.'] / cat_dq_report['Count'] * 100\n",
    "\n",
    "cat_dq_report.head()"
   ]
  },
  {
   "cell_type": "code",
   "execution_count": 7,
   "metadata": {},
   "outputs": [
    {
     "data": {
      "text/html": [
       "<div>\n",
       "<style scoped>\n",
       "    .dataframe tbody tr th:only-of-type {\n",
       "        vertical-align: middle;\n",
       "    }\n",
       "\n",
       "    .dataframe tbody tr th {\n",
       "        vertical-align: top;\n",
       "    }\n",
       "\n",
       "    .dataframe thead th {\n",
       "        text-align: right;\n",
       "    }\n",
       "</style>\n",
       "<table border=\"1\" class=\"dataframe\">\n",
       "  <thead>\n",
       "    <tr style=\"text-align: right;\">\n",
       "      <th></th>\n",
       "      <th>Feature</th>\n",
       "      <th>Count</th>\n",
       "      <th>% Miss.</th>\n",
       "      <th>Card.</th>\n",
       "      <th>Min.</th>\n",
       "      <th>1st Qrt.</th>\n",
       "      <th>Mean</th>\n",
       "      <th>Median</th>\n",
       "      <th>3rd Qrt.</th>\n",
       "      <th>Max.</th>\n",
       "      <th>Std. Dev.</th>\n",
       "    </tr>\n",
       "  </thead>\n",
       "  <tbody>\n",
       "    <tr>\n",
       "      <th>0</th>\n",
       "      <td>age</td>\n",
       "      <td>0.0</td>\n",
       "      <td>0</td>\n",
       "      <td>8</td>\n",
       "      <td>15.0</td>\n",
       "      <td>16.0</td>\n",
       "      <td>16.726054</td>\n",
       "      <td>17.0</td>\n",
       "      <td>18.0</td>\n",
       "      <td>22.0</td>\n",
       "      <td>1.239975</td>\n",
       "    </tr>\n",
       "    <tr>\n",
       "      <th>1</th>\n",
       "      <td>absences</td>\n",
       "      <td>0.0</td>\n",
       "      <td>0</td>\n",
       "      <td>35</td>\n",
       "      <td>0.0</td>\n",
       "      <td>0.0</td>\n",
       "      <td>4.434866</td>\n",
       "      <td>2.0</td>\n",
       "      <td>6.0</td>\n",
       "      <td>75.0</td>\n",
       "      <td>6.210017</td>\n",
       "    </tr>\n",
       "    <tr>\n",
       "      <th>2</th>\n",
       "      <td>G3</td>\n",
       "      <td>0.0</td>\n",
       "      <td>0</td>\n",
       "      <td>19</td>\n",
       "      <td>0.0</td>\n",
       "      <td>10.0</td>\n",
       "      <td>11.341954</td>\n",
       "      <td>11.0</td>\n",
       "      <td>14.0</td>\n",
       "      <td>20.0</td>\n",
       "      <td>3.864796</td>\n",
       "    </tr>\n",
       "  </tbody>\n",
       "</table>\n",
       "</div>"
      ],
      "text/plain": [
       "    Feature  Count  % Miss.  Card.  Min.  1st Qrt.       Mean  Median  \\\n",
       "0       age    0.0        0      8  15.0      16.0  16.726054    17.0   \n",
       "1  absences    0.0        0     35   0.0       0.0   4.434866     2.0   \n",
       "2        G3    0.0        0     19   0.0      10.0  11.341954    11.0   \n",
       "\n",
       "   3rd Qrt.  Max.  Std. Dev.  \n",
       "0      18.0  22.0   1.239975  \n",
       "1       6.0  75.0   6.210017  \n",
       "2      14.0  20.0   3.864796  "
      ]
     },
     "execution_count": 7,
     "metadata": {},
     "output_type": "execute_result"
    }
   ],
   "source": [
    "# Cont. Feature Data Quality Report\n",
    "# Feature feature\n",
    "cont_dq_report = pd.DataFrame(cont_df.columns.values)\n",
    "cont_dq_report.columns = ['Feature']\n",
    "\n",
    "cont_desc = cont_df[cont_dq_report['Feature']].describe()\n",
    "\n",
    "# Turning rows of cont_desc into columns of our data quality report\n",
    "for i, row in enumerate(list(cont_desc.index.values)):\n",
    "    cont_dq_report[row] = cont_desc[i:i+1][:].T.values\n",
    "\n",
    "cont_dq_report['% Miss.'] = 0\n",
    "for i, feature in enumerate(cont_dq_report['Feature']):\n",
    "    cont_dq_report.iloc[i:i+1, 1] = cont_df[feature].isna().sum() / cont_df.shape[0] # Miss %\n",
    "\n",
    "# Cardinality feature\n",
    "cont_dq_report['Card.'] = df[cont_dq_report['Feature']].nunique().values\n",
    "\n",
    "cont_dq_report = cont_dq_report[['Feature', 'count', '% Miss.', 'Card.', 'min', '25%', 'mean', '50%', '75%', 'max', 'std']]\n",
    "cont_dq_report.rename({'count': 'Count', 'min': 'Min.', '25%': '1st Qrt.', 'mean': 'Mean', '50%': 'Median', '75%': '3rd Qrt.', 'max': 'Max.', 'std': 'Std. Dev.'}, axis=1, inplace=True)\n",
    "cont_dq_report.head()"
   ]
  },
  {
   "cell_type": "markdown",
   "metadata": {},
   "source": [
    "## 2.1.2 Data Visualizations "
   ]
  },
  {
   "cell_type": "code",
   "execution_count": 8,
   "metadata": {},
   "outputs": [
    {
     "data": {
      "image/png": "[encoded data removed]",
      "text/plain": [
       "<Figure size 1000x600 with 3 Axes>"
      ]
     },
     "metadata": {},
     "output_type": "display_data"
    }
   ],
   "source": [
    "# Continuous Feature Histograms\n",
    "fig, axes = plt.subplots(1, 3, figsize=(10,6))\n",
    "\n",
    "fig.suptitle(\"Continuous Feature Histograms\", fontsize=20)\n",
    "for i, feature in enumerate(cont_features):\n",
    "    cont_df.hist(feature, ax=axes[i])\n",
    "    axes[i].set_ylabel('Frequency')\n",
    "    axes[i].set_xlim(xmin=0)\n",
    "\n",
    "plt.show()"
   ]
  },
  {
   "cell_type": "code",
   "execution_count": 9,
   "metadata": {},
   "outputs": [
    {
     "data": {
      "image/png": "[encoded data removed]",
      "text/plain": [
       "<Figure size 1500x500 with 3 Axes>"
      ]
     },
     "metadata": {},
     "output_type": "display_data"
    }
   ],
   "source": [
    "# Continuous Feature Box Plots\n",
    "fig, axes = plt.subplots(1, 3, figsize=(15,5))\n",
    "plt.suptitle('Continuous Feature Box plots', fontsize=20)\n",
    "\n",
    "for i, feature in enumerate(cont_features):\n",
    "    cont_df.boxplot(feature, ax=axes[i])\n",
    "    axes[i].set_ylim(ymin=-1)\n",
    "\n",
    "axes[0].set_ylabel('Age')\n",
    "axes[1].set_ylabel('Number of Absences')\n",
    "axes[2].set_ylabel('Score')\n",
    "\n",
    "plt.show()"
   ]
  },
  {
   "cell_type": "code",
   "execution_count": null,
   "metadata": {},
   "outputs": [],
   "source": [
    "# Categorical Feature Bar Plots\n",
    "fig = plt.figure(figsize=(20, 40))\n",
    "\n",
    "fig.suptitle(\"Categorical Feature Bar Plots\", fontsize=35)\n",
    "# Adjusting white space under title\n",
    "fig.tight_layout()\n",
    "fig.subplots_adjust(top=0.95)\n",
    "\n",
    "for i in range(1,30):\n",
    "    ax = fig.add_subplot(8, 4, i)\n",
    "    feature = cat_features[i-1]\n",
    "    plt.title(feature)\n",
    "    ax = cat_df[feature].value_counts().sort_index().plot(kind='bar') # sort_index so that ordinal values are in order\n",
    "    plt.xticks(rotation=0)\n",
    "    plt.ylabel('Frequency')\n",
    "    # Adds frequencies above each bar\n",
    "    for bar in ax.patches:\n",
    "        # Get X and Y placement of label of bar\n",
    "        y_val = bar.get_height()\n",
    "        x_val = bar.get_x() + bar.get_width() / 2\n",
    "        label = \"{:.0f}\".format(y_val)\n",
    "\n",
    "        # Create annotation\n",
    "        ax.annotate(label, (x_val, y_val), \n",
    "            xytext=(0, 1), textcoords=\"offset points\", ha='center', va='bottom')\n",
    "\n",
    "plt.show()"
   ]
  },
  {
   "cell_type": "markdown",
   "metadata": {},
   "source": [
    "# ?"
   ]
  },
  {
   "cell_type": "code",
   "execution_count": null,
   "metadata": {},
   "outputs": [],
   "source": [
    "# headers of features\n",
    "\n",
    "#headers = [\"test preparation course\",\"math score\",\"reading score\",\"writing score\", \"gender\",\"race/ethnicity\",\"parental level of education\",\n",
    "#\"lunch\"]"
   ]
  },
  {
   "cell_type": "code",
   "execution_count": null,
   "metadata": {},
   "outputs": [],
   "source": [
    "# prints out the object feature test prep course and converts to boolean \n",
    "\n",
    "#printTrue = df['test preparation course'] = df['test preparation course'].replace(['completed'], True)\n",
    "#printFalse = df['test preparation course'] = df['test preparation course'].replace(['none'], False)\n"
   ]
  },
  {
   "cell_type": "code",
   "execution_count": null,
   "metadata": {},
   "outputs": [],
   "source": [
    "#df['test preparation course'].astype('int8')\n",
    "\n",
    "# drop ID\n",
    "#df = df.iloc[: , 1:]"
   ]
  },
  {
   "cell_type": "markdown",
   "metadata": {},
   "source": [
    "## One-Hot Encoded Data"
   ]
  },
  {
   "cell_type": "code",
   "execution_count": null,
   "metadata": {},
   "outputs": [],
   "source": [
    "# one-hot encoded data: gender, ethnicity, education, lunch\n",
    "\n",
    "one_hot_encoded_data = pd.get_dummies(df, columns = ['school', 'class', 'sex', 'address', 'famsize', 'Pstatus', 'Mjob', 'Fjob', 'reason', 'guardian', 'paid', 'activities', 'nursery', 'higher', 'internet', 'romantic'])\n",
    "print(tabulate(one_hot_encoded_data, headers = \"keys\", tablefmt='fancy_grid'))\n"
   ]
  },
  {
   "cell_type": "markdown",
   "metadata": {},
   "source": [
    "### Missing Values and Outliers"
   ]
  },
  {
   "cell_type": "code",
   "execution_count": null,
   "metadata": {},
   "outputs": [],
   "source": []
  },
  {
   "cell_type": "markdown",
   "metadata": {},
   "source": [
    "### Normalization"
   ]
  },
  {
   "cell_type": "code",
   "execution_count": null,
   "metadata": {},
   "outputs": [],
   "source": [
    "# normalize the code\n",
    "from sklearn.preprocessing import MinMaxScaler\n",
    "\n",
    "df_sklearn = df.copy()\n",
    "\n",
    "columns = 'age'\n",
    "df_sklearn[columns] = MinMaxScaler().fit_transform(np.array(df_sklearn[columns]).reshape(-1,1))\n",
    "\n",
    "columns2 = 'famrel'\n",
    "df_sklearn[columns2] = MinMaxScaler().fit_transform(np.array(df_sklearn[columns2]).reshape(-1,1))\n",
    "\n",
    "columns3 = 'freetime'\n",
    "df_sklearn[columns3] = MinMaxScaler().fit_transform(np.array(df_sklearn[columns3]).reshape(-1,1))\n",
    "\n",
    "columns4 = 'goout'\n",
    "df_sklearn[columns4] = MinMaxScaler().fit_transform(np.array(df_sklearn[columns4]).reshape(-1,1))\n",
    "\n",
    "columns5 = 'Walc'\n",
    "df_sklearn[columns5] = MinMaxScaler().fit_transform(np.array(df_sklearn[columns5]).reshape(-1,1))\n",
    "\n",
    "columns6 = 'health'\n",
    "df_sklearn[columns6] = MinMaxScaler().fit_transform(np.array(df_sklearn[columns6]).reshape(-1,1))\n",
    "\n",
    "columns7 = 'absences'\n",
    "df_sklearn[columns7] = MinMaxScaler().fit_transform(np.array(df_sklearn[columns7]).reshape(-1,1))\n",
    "\n",
    "# view normalized data  \n",
    "display(df_sklearn)\n",
    " "
   ]
  },
  {
   "cell_type": "code",
   "execution_count": null,
   "metadata": {},
   "outputs": [],
   "source": [
    "# turn categorical info into binary\n",
    "\n",
    "binary1 = pd.get_dummies(df_sklearn)\n",
    "binary1.to_csv('student_data.csv')\n",
    "\n",
    "display (binary1)\n"
   ]
  },
  {
   "cell_type": "markdown",
   "metadata": {},
   "source": [
    "### Remove Outliers"
   ]
  },
  {
   "cell_type": "code",
   "execution_count": null,
   "metadata": {},
   "outputs": [],
   "source": [
    "#removes outliers to whatever std deviation you want \n",
    "#outliers_rm_df = pd.get_dummies(df_sklearn)\n",
    "#std_deviation = 3\n",
    "#outliers_rm_df[outliers_rm_df.apply(lambda x: np.abs(x - x.mean()) / x.std() < std_deviation).all(axis=1)]"
   ]
  },
  {
   "cell_type": "markdown",
   "metadata": {},
   "source": [
    "### Transformations"
   ]
  },
  {
   "cell_type": "code",
   "execution_count": null,
   "metadata": {},
   "outputs": [],
   "source": []
  },
  {
   "cell_type": "markdown",
   "metadata": {},
   "source": [
    "### Selecting Features"
   ]
  },
  {
   "cell_type": "code",
   "execution_count": null,
   "metadata": {},
   "outputs": [],
   "source": []
  }
 ],
 "metadata": {
  "kernelspec": {
   "display_name": "Python 3 (ipykernel)",
   "language": "python",
   "name": "python3"
  },
  "language_info": {
   "codemirror_mode": {
    "name": "ipython",
    "version": 3
   },
   "file_extension": ".py",
   "mimetype": "text/x-python",
   "name": "python",
   "nbconvert_exporter": "python",
   "pygments_lexer": "ipython3",
   "version": "3.9.7"
  },
  "vscode": {
   "interpreter": {
    "hash": "369f2c481f4da34e4445cda3fffd2e751bd1c4d706f27375911949ba6bb62e1c"
   }
  }
 },
 "nbformat": 4,
 "nbformat_minor": 2
}
